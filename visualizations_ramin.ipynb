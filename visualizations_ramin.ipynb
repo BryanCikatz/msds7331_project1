{
 "cells": [
  {
   "cell_type": "markdown",
   "metadata": {
    "collapsed": true
   },
   "source": [
    "# Assignment 1"
   ]
  },
  {
   "cell_type": "markdown",
   "metadata": {},
   "source": [
    "## Overview"
   ]
  },
  {
   "cell_type": "markdown",
   "metadata": {
    "collapsed": true
   },
   "source": [
    "  Kickstarter is an American public-benefit corporation based in Brooklyn, New York, that maintains a global crowdfunding platform focused on creativity. The company's stated mission is to \"help bring creative projects to life\". Kickstarter has reportedly received more than $1.9 billion in pledges from 9.4 million backers to fund 257,000 creative projects, such as films, music, stage shows, comics, journalism, video games, technology and food-related projects. \n",
    "  People who back Kickstarter projects are offered tangible rewards or experiences in exchange for their pledges. This model traces its roots to subscription model of arts patronage, where artists would go directly to their audiences to fund their work. We are trying to analyze the kickstarter dataset to extract meaningful plots to illustate the data. This analysis can help us to gradually predict which attributes make a project successful. You can find more information about this dataset from <a link=\"https://www.kaggle.com/kemical/kickstarter-projects\">here</a>.   "
   ]
  },
  {
   "cell_type": "code",
   "execution_count": 1,
   "metadata": {
    "collapsed": true
   },
   "outputs": [
    {
     "ename": "ModuleNotFoundError",
     "evalue": "No module named 'pandas'",
     "traceback": [
      "\u001b[0;31m---------------------------------------------------------------------------\u001b[0m",
      "\u001b[0;31mModuleNotFoundError\u001b[0m                       Traceback (most recent call last)",
      "\u001b[0;32m<ipython-input-1-0b2b8880da71>\u001b[0m in \u001b[0;36m<module>\u001b[0;34m()\u001b[0m\n\u001b[1;32m      1\u001b[0m \u001b[0;31m# loading the dataset\u001b[0m\u001b[0;34m\u001b[0m\u001b[0;34m\u001b[0m\u001b[0m\n\u001b[0;32m----> 2\u001b[0;31m \u001b[0;32mimport\u001b[0m \u001b[0mpandas\u001b[0m \u001b[0;32mas\u001b[0m \u001b[0mpd\u001b[0m\u001b[0;34m\u001b[0m\u001b[0m\n\u001b[0m\u001b[1;32m      3\u001b[0m \u001b[0;32mimport\u001b[0m \u001b[0mnumpy\u001b[0m \u001b[0;32mas\u001b[0m \u001b[0mnp\u001b[0m\u001b[0;34m\u001b[0m\u001b[0m\n\u001b[1;32m      4\u001b[0m \u001b[0mdf\u001b[0m \u001b[0;34m=\u001b[0m \u001b[0mpd\u001b[0m\u001b[0;34m.\u001b[0m\u001b[0mread_csv\u001b[0m\u001b[0;34m(\u001b[0m\u001b[0;34m'dataset/ks-projects-201612-cleaned.csv'\u001b[0m\u001b[0;34m,\u001b[0m  \u001b[0msep\u001b[0m \u001b[0;34m=\u001b[0m \u001b[0;34m','\u001b[0m\u001b[0;34m)\u001b[0m\u001b[0;34m\u001b[0m\u001b[0m\n",
      "\u001b[0;31mModuleNotFoundError\u001b[0m: No module named 'pandas'"
     ],
     "output_type": "error"
    }
   ],
   "source": [
    "    # loading the dataset\n",
    "    import pandas as pd\n",
    "    import numpy as np\n",
    "    df = pd.read_csv('dataset/ks-projects-201612-cleaned.csv',  sep = ',')"
   ]
  },
  {
   "cell_type": "code",
   "execution_count": 4,
   "metadata": {},
   "outputs": [
    {
     "name": "stdout",
     "output_type": "stream",
     "text": [
      "   uniqueId                                               name  \\\n",
      "0      5971              An American Apocalypse: The Reckoning   \n",
      "1     18520                                 Grandma's are Life   \n",
      "2     21109                                               Meta   \n",
      "3     21371                                  Water Powered Car   \n",
      "4     24380  Puss N' Books: A relaxing cat cafe and bookstore.   \n",
      "\n",
      "          category main_category currency          deadline     goal  \\\n",
      "0           Comics        Comics      USD    8/6/2012 20:00  48000.0   \n",
      "1      World Music         Music      USD  11/18/2016 15:32  15000.0   \n",
      "2  Performance Art           Art      GBP    5/6/2015 23:00    150.0   \n",
      "3       Technology    Technology      USD   8/10/2016 19:02  75000.0   \n",
      "4           Spaces          Food      USD  11/26/2015 17:25  20000.0   \n",
      "\n",
      "           launched  pledged       state  backers country  \n",
      "0    6/8/2012 18:46    376.0      failed        7      US  \n",
      "1  10/19/2016 15:32     62.0      failed        4      US  \n",
      "2     4/8/2015 0:37    173.0  successful       11      GB  \n",
      "3   7/26/2016 19:02    120.0      failed        4      US  \n",
      "4  10/27/2015 16:25    776.0      failed       18      US  \n"
     ]
    }
   ],
   "source": [
    "print(df.head())"
   ]
  },
  {
   "cell_type": "code",
   "execution_count": 5,
   "metadata": {},
   "outputs": [
    {
     "name": "stdout",
     "output_type": "stream",
     "text": [
      "<class 'pandas.core.frame.DataFrame'>\n",
      "RangeIndex: 319510 entries, 0 to 319509\n",
      "Data columns (total 12 columns):\n",
      "uniqueId         319510 non-null int64\n",
      "name             319508 non-null object\n",
      "category         319510 non-null object\n",
      "main_category    319510 non-null object\n",
      "currency         319510 non-null object\n",
      "deadline         319510 non-null object\n",
      "goal             319510 non-null float64\n",
      "launched         319510 non-null object\n",
      "pledged          319510 non-null float64\n",
      "state            319510 non-null object\n",
      "backers          319510 non-null int64\n",
      "country          319510 non-null object\n",
      "dtypes: float64(2), int64(2), object(8)\n",
      "memory usage: 29.3+ MB\n",
      "None\n"
     ]
    }
   ],
   "source": [
    "print (df.info())"
   ]
  },
  {
   "cell_type": "code",
   "execution_count": 6,
   "metadata": {},
   "outputs": [
    {
     "name": "stdout",
     "output_type": "stream",
     "text": [
      "uniqueId           int64\n",
      "name              object\n",
      "category          object\n",
      "main_category     object\n",
      "currency          object\n",
      "deadline          object\n",
      "goal             float64\n",
      "launched          object\n",
      "pledged          float64\n",
      "state             object\n",
      "backers            int64\n",
      "country           object\n",
      "dtype: object\n"
     ]
    }
   ],
   "source": [
    "print (df.dtypes)\n"
   ]
  },
  {
   "cell_type": "markdown",
   "metadata": {},
   "source": [
    "### Summary Statistics:"
   ]
  },
  {
   "cell_type": "code",
   "execution_count": 7,
   "metadata": {},
   "outputs": [
    {
     "data": {
      "text/html": [
       "<div>\n",
       "<style>\n",
       "    .dataframe thead tr:only-child th {\n",
       "        text-align: right;\n",
       "    }\n",
       "\n",
       "    .dataframe thead th {\n",
       "        text-align: left;\n",
       "    }\n",
       "\n",
       "    .dataframe tbody tr th {\n",
       "        vertical-align: top;\n",
       "    }\n",
       "</style>\n",
       "<table border=\"1\" class=\"dataframe\">\n",
       "  <thead>\n",
       "    <tr style=\"text-align: right;\">\n",
       "      <th></th>\n",
       "      <th>uniqueId</th>\n",
       "      <th>goal</th>\n",
       "      <th>pledged</th>\n",
       "      <th>backers</th>\n",
       "    </tr>\n",
       "  </thead>\n",
       "  <tbody>\n",
       "    <tr>\n",
       "      <th>count</th>\n",
       "      <td>3.195100e+05</td>\n",
       "      <td>3.195100e+05</td>\n",
       "      <td>3.195100e+05</td>\n",
       "      <td>319510.000000</td>\n",
       "    </tr>\n",
       "    <tr>\n",
       "      <th>mean</th>\n",
       "      <td>1.074803e+09</td>\n",
       "      <td>4.763327e+04</td>\n",
       "      <td>8.767841e+03</td>\n",
       "      <td>102.760079</td>\n",
       "    </tr>\n",
       "    <tr>\n",
       "      <th>std</th>\n",
       "      <td>6.193723e+08</td>\n",
       "      <td>1.145984e+06</td>\n",
       "      <td>9.008617e+04</td>\n",
       "      <td>940.099326</td>\n",
       "    </tr>\n",
       "    <tr>\n",
       "      <th>min</th>\n",
       "      <td>5.971000e+03</td>\n",
       "      <td>1.000000e-02</td>\n",
       "      <td>0.000000e+00</td>\n",
       "      <td>0.000000</td>\n",
       "    </tr>\n",
       "    <tr>\n",
       "      <th>25%</th>\n",
       "      <td>5.374061e+08</td>\n",
       "      <td>2.000000e+03</td>\n",
       "      <td>3.000000e+01</td>\n",
       "      <td>2.000000</td>\n",
       "    </tr>\n",
       "    <tr>\n",
       "      <th>50%</th>\n",
       "      <td>1.075764e+09</td>\n",
       "      <td>5.000000e+03</td>\n",
       "      <td>6.100000e+02</td>\n",
       "      <td>12.000000</td>\n",
       "    </tr>\n",
       "    <tr>\n",
       "      <th>75%</th>\n",
       "      <td>1.611034e+09</td>\n",
       "      <td>1.500000e+04</td>\n",
       "      <td>3.939000e+03</td>\n",
       "      <td>55.000000</td>\n",
       "    </tr>\n",
       "    <tr>\n",
       "      <th>max</th>\n",
       "      <td>2.147476e+09</td>\n",
       "      <td>1.000000e+08</td>\n",
       "      <td>2.033899e+07</td>\n",
       "      <td>219382.000000</td>\n",
       "    </tr>\n",
       "  </tbody>\n",
       "</table>\n",
       "</div>"
      ],
      "text/plain": [
       "           uniqueId          goal       pledged        backers\n",
       "count  3.195100e+05  3.195100e+05  3.195100e+05  319510.000000\n",
       "mean   1.074803e+09  4.763327e+04  8.767841e+03     102.760079\n",
       "std    6.193723e+08  1.145984e+06  9.008617e+04     940.099326\n",
       "min    5.971000e+03  1.000000e-02  0.000000e+00       0.000000\n",
       "25%    5.374061e+08  2.000000e+03  3.000000e+01       2.000000\n",
       "50%    1.075764e+09  5.000000e+03  6.100000e+02      12.000000\n",
       "75%    1.611034e+09  1.500000e+04  3.939000e+03      55.000000\n",
       "max    2.147476e+09  1.000000e+08  2.033899e+07  219382.000000"
      ]
     },
     "execution_count": 7,
     "metadata": {},
     "output_type": "execute_result"
    }
   ],
   "source": [
    "df.describe()"
   ]
  },
  {
   "cell_type": "markdown",
   "metadata": {},
   "source": [
    "### Exploratory Data Analysis \n",
    " There are 17 columns in our dataset. Following are the columns that we use:"
   ]
  },
  {
   "cell_type": "markdown",
   "metadata": {},
   "source": [
    "<table> \n",
    "<tr>\n",
    "<td>\n",
    "<b>column name</b>                         \n",
    "</td>\n",
    "<td><b>Description</b><td>\n",
    "<td><b>Type</b></td>\n",
    "</tr>\n",
    "<tr>\n",
    "<td>uniqueID</td>\n",
    "<td>Id of project </td>\n",
    "<td>String</td>\n",
    "</tr>\n",
    "\n",
    "<tr>\n",
    "<td>name</td>\n",
    "<td>Title of the project</td>\n",
    "<td>String</td>\n",
    "</tr>\n",
    "<tr>\n",
    "<td>category</td>\n",
    "<td>Kickstarter sub category</td>\n",
    "<td>String</td>\n",
    "</tr>\n",
    "<tr>\n",
    "<td>main_category</td>\n",
    "<td>Kickstarter main category</td>\n",
    "<td>String</td>\n",
    "</tr>\n",
    "<tr>\n",
    "<td>currency</td>\n",
    "<td>Intial currency of the project</td>\n",
    "<td>String</td>\n",
    "</tr>\n",
    "<tr>\n",
    "<td>deadline</td>\n",
    "<td>Project deadline</td>\n",
    "<td>DateTime</td>\n",
    "</tr>\n",
    "<tr>\n",
    "<td>goal</td>\n",
    "<td>Project goal</td>\n",
    "<td>Numeric</td>\n",
    "</tr>\n",
    "<tr>\n",
    "<td>launched</td>\n",
    "<td>Project launch date</td>\n",
    "<td>DateTime</td>\n",
    "</tr>\n",
    "<tr>\n",
    "<td>pledged</td>\n",
    "<td>Amount pledge in inital currency</td>\n",
    "<td>Numeric</td>\n",
    "</tr>\n",
    "<tr>\n",
    "<td>state</td>\n",
    "<td>Project current state</td>\n",
    "<td>String</td>\n",
    "</tr>\n",
    "<tr>\n",
    "<td>backers</td>\n",
    "<td>Number of backers</td>\n",
    "<td>Numeric</td>\n",
    "</tr>\n",
    "<tr>\n",
    "<td>country</td>\n",
    "<td>Country of project creator</td>\n",
    "<td>String</td>\n",
    "</tr>\n",
    "\n",
    "<tr>\n",
    "<td>usd pledged</td>\n",
    "<td>Kickstarter conversion of pledged amount in USD</td>\n",
    "<td>Numeric</td>\n",
    "</tr>\n",
    "</table>\n",
    "\n",
    "\n",
    "\n",
    "\n"
   ]
  },
  {
   "cell_type": "markdown",
   "metadata": {},
   "source": [
    "### Status of the project\n",
    " There are 319510 projects in this dataset out of which 113,061 have been succesful"
   ]
  },
  {
   "cell_type": "code",
   "execution_count": 8,
   "metadata": {},
   "outputs": [
    {
     "name": "stdout",
     "output_type": "stream",
     "text": [
      "Out of 319510 projects, 32343 are cancelled, 168203 have failed, and 113061 have been successful.\n"
     ]
    }
   ],
   "source": [
    "a = len(df)\n",
    "c = len(df[df.state==\"canceled\"])\n",
    "f =  len(df[df.state==\"failed\"])\n",
    "s = len(df[df.state==\"successful\"])\n",
    "print \"Out of %s projects, %s are cancelled, %s have failed, and %s have been successful.\"%(a, c, f, s)"
   ]
  },
  {
   "cell_type": "code",
   "execution_count": null,
   "metadata": {},
   "outputs": [],
   "source": [
    "\n"
   ]
  },
  {
   "cell_type": "code",
   "execution_count": null,
   "metadata": {
    "collapsed": true
   },
   "outputs": [],
   "source": []
  }
 ],
 "metadata": {
  "kernelspec": {
   "display_name": "Python 2",
   "language": "python",
   "name": "python2"
  },
  "language_info": {
   "codemirror_mode": {
    "name": "ipython",
    "version": 2
   },
   "file_extension": ".py",
   "mimetype": "text/x-python",
   "name": "python",
   "nbconvert_exporter": "python",
   "pygments_lexer": "ipython2",
   "version": "2.7.14"
  }
 },
 "nbformat": 4,
 "nbformat_minor": 1
}
