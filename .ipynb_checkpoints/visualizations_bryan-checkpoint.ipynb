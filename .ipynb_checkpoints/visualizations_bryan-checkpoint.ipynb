{
 "cells": [
  {
   "cell_type": "code",
   "execution_count": 1,
   "metadata": {
    "collapsed": true
   },
   "outputs": [],
   "source": [
    "    # loading the dataset\n",
    "    import pandas as pd\n",
    "    import numpy as np\n",
    "    %matplotlib inline\n",
    "    import matplotlib.pyplot as plt\n",
    "    import warnings\n",
    "    warnings.simplefilter('ignore', DeprecationWarning)\n",
    "    df = pd.read_csv('dataset/ks-projects-201612-cleaned.csv',  sep = ',')    "
   ]
  },
  {
   "cell_type": "code",
   "execution_count": 2,
   "metadata": {},
   "outputs": [
    {
     "name": "stdout",
     "output_type": "stream",
     "text": [
      "   uniqueId                                              name   \\\n",
      "0      5971              An American Apocalypse: The Reckoning   \n",
      "1     18520                                 Grandma's are Life   \n",
      "2     21109                                               Meta   \n",
      "3     21371                                  Water Powered Car   \n",
      "4     24380  Puss N' Books: A relaxing cat cafe and bookstore.   \n",
      "\n",
      "         category  main_category  currency          deadline     goal   \\\n",
      "0           Comics         Comics       USD    8/6/2012 20:00  48000.0   \n",
      "1      World Music          Music       USD  11/18/2016 15:32  15000.0   \n",
      "2  Performance Art            Art       GBP    5/6/2015 23:00    150.0   \n",
      "3       Technology     Technology       USD   8/10/2016 19:02  75000.0   \n",
      "4           Spaces           Food       USD  11/26/2015 17:25  20000.0   \n",
      "\n",
      "          launched   pledged       state   backers  country   \n",
      "0    6/8/2012 18:46     376.0      failed         7       US  \n",
      "1  10/19/2016 15:32      62.0      failed         4       US  \n",
      "2     4/8/2015 0:37     173.0  successful        11       GB  \n",
      "3   7/26/2016 19:02     120.0      failed         4       US  \n",
      "4  10/27/2015 16:25     776.0      failed        18       US  \n"
     ]
    }
   ],
   "source": [
    "print(df.head())"
   ]
  },
  {
   "cell_type": "code",
   "execution_count": 3,
   "metadata": {},
   "outputs": [
    {
     "name": "stdout",
     "output_type": "stream",
     "text": [
      "<class 'pandas.core.frame.DataFrame'>\n",
      "RangeIndex: 319556 entries, 0 to 319555\n",
      "Data columns (total 12 columns):\n",
      "uniqueId          319556 non-null int64\n",
      "name              319554 non-null object\n",
      "category          319556 non-null object\n",
      "main_category     319556 non-null object\n",
      "currency          319556 non-null object\n",
      "deadline          319556 non-null object\n",
      "goal              319556 non-null float64\n",
      "launched          319556 non-null object\n",
      "pledged           319556 non-null float64\n",
      "state             319556 non-null object\n",
      "backers           319556 non-null int64\n",
      "country           319556 non-null object\n",
      "dtypes: float64(2), int64(2), object(8)\n",
      "memory usage: 29.3+ MB\n",
      "None\n"
     ]
    }
   ],
   "source": [
    "print (df.info())"
   ]
  },
  {
   "cell_type": "code",
   "execution_count": 4,
   "metadata": {},
   "outputs": [
    {
     "name": "stdout",
     "output_type": "stream",
     "text": [
      "uniqueId            int64\n",
      "name               object\n",
      "category           object\n",
      "main_category      object\n",
      "currency           object\n",
      "deadline           object\n",
      "goal              float64\n",
      "launched           object\n",
      "pledged           float64\n",
      "state              object\n",
      "backers             int64\n",
      "country            object\n",
      "dtype: object\n"
     ]
    }
   ],
   "source": [
    "print (df.dtypes)"
   ]
  },
  {
   "cell_type": "code",
   "execution_count": 5,
   "metadata": {},
   "outputs": [
    {
     "data": {
      "text/html": [
       "<div>\n",
       "<style>\n",
       "    .dataframe thead tr:only-child th {\n",
       "        text-align: right;\n",
       "    }\n",
       "\n",
       "    .dataframe thead th {\n",
       "        text-align: left;\n",
       "    }\n",
       "\n",
       "    .dataframe tbody tr th {\n",
       "        vertical-align: top;\n",
       "    }\n",
       "</style>\n",
       "<table border=\"1\" class=\"dataframe\">\n",
       "  <thead>\n",
       "    <tr style=\"text-align: right;\">\n",
       "      <th></th>\n",
       "      <th>uniqueId</th>\n",
       "      <th>goal</th>\n",
       "      <th>pledged</th>\n",
       "      <th>backers</th>\n",
       "    </tr>\n",
       "  </thead>\n",
       "  <tbody>\n",
       "    <tr>\n",
       "      <th>count</th>\n",
       "      <td>3.195560e+05</td>\n",
       "      <td>3.195560e+05</td>\n",
       "      <td>3.195560e+05</td>\n",
       "      <td>319556.000000</td>\n",
       "    </tr>\n",
       "    <tr>\n",
       "      <th>mean</th>\n",
       "      <td>1.074799e+09</td>\n",
       "      <td>4.762898e+04</td>\n",
       "      <td>8.768322e+03</td>\n",
       "      <td>102.767775</td>\n",
       "    </tr>\n",
       "    <tr>\n",
       "      <th>std</th>\n",
       "      <td>6.193688e+08</td>\n",
       "      <td>1.145902e+06</td>\n",
       "      <td>9.008106e+04</td>\n",
       "      <td>940.051571</td>\n",
       "    </tr>\n",
       "    <tr>\n",
       "      <th>min</th>\n",
       "      <td>5.971000e+03</td>\n",
       "      <td>1.000000e-02</td>\n",
       "      <td>0.000000e+00</td>\n",
       "      <td>0.000000</td>\n",
       "    </tr>\n",
       "    <tr>\n",
       "      <th>25%</th>\n",
       "      <td>5.374245e+08</td>\n",
       "      <td>2.000000e+03</td>\n",
       "      <td>3.000000e+01</td>\n",
       "      <td>2.000000</td>\n",
       "    </tr>\n",
       "    <tr>\n",
       "      <th>50%</th>\n",
       "      <td>1.075709e+09</td>\n",
       "      <td>5.000000e+03</td>\n",
       "      <td>6.100000e+02</td>\n",
       "      <td>12.000000</td>\n",
       "    </tr>\n",
       "    <tr>\n",
       "      <th>75%</th>\n",
       "      <td>1.611023e+09</td>\n",
       "      <td>1.500000e+04</td>\n",
       "      <td>3.940000e+03</td>\n",
       "      <td>55.000000</td>\n",
       "    </tr>\n",
       "    <tr>\n",
       "      <th>max</th>\n",
       "      <td>2.147476e+09</td>\n",
       "      <td>1.000000e+08</td>\n",
       "      <td>2.033899e+07</td>\n",
       "      <td>219382.000000</td>\n",
       "    </tr>\n",
       "  </tbody>\n",
       "</table>\n",
       "</div>"
      ],
      "text/plain": [
       "           uniqueId         goal       pledged        backers \n",
       "count  3.195560e+05  3.195560e+05  3.195560e+05  319556.000000\n",
       "mean   1.074799e+09  4.762898e+04  8.768322e+03     102.767775\n",
       "std    6.193688e+08  1.145902e+06  9.008106e+04     940.051571\n",
       "min    5.971000e+03  1.000000e-02  0.000000e+00       0.000000\n",
       "25%    5.374245e+08  2.000000e+03  3.000000e+01       2.000000\n",
       "50%    1.075709e+09  5.000000e+03  6.100000e+02      12.000000\n",
       "75%    1.611023e+09  1.500000e+04  3.940000e+03      55.000000\n",
       "max    2.147476e+09  1.000000e+08  2.033899e+07  219382.000000"
      ]
     },
     "execution_count": 5,
     "metadata": {},
     "output_type": "execute_result"
    }
   ],
   "source": [
    "df.describe()"
   ]
  },
  {
   "cell_type": "markdown",
   "metadata": {
    "collapsed": true
   },
   "source": [
    "## Visualize Interesting Attributes:"
   ]
  },
  {
   "cell_type": "code",
   "execution_count": 30,
   "metadata": {},
   "outputs": [],
   "source": [
    "#looking at frequency of projects by currency\n",
    "currency_list = df.groupby('currency ').count()\n",
    "del currency_list['name ']\n",
    "del currency_list['category ']\n",
    "del currency_list['main_category ']\n",
    "del currency_list['deadline ']\n",
    "del currency_list['goal ']\n",
    "del currency_list['launched ']\n",
    "del currency_list['pledged ']\n",
    "del currency_list['state ']\n",
    "del currency_list['backers ']\n",
    "del currency_list['country ']"
   ]
  },
  {
   "cell_type": "code",
   "execution_count": 13,
   "metadata": {},
   "outputs": [
    {
     "data": {
      "text/plain": [
       "<matplotlib.axes._subplots.AxesSubplot at 0x7f116db6d910>"
      ]
     },
     "execution_count": 13,
     "metadata": {},
     "output_type": "execute_result"
    },
    {
     "data": {
      "text/plain": [
       "<matplotlib.figure.Figure at 0x7f116dc68610>"
      ]
     },
     "metadata": {},
     "output_type": "display_data"
    },
    {
     "data": {
      "image/png": "[encoded data removed]",
      "text/plain": [
       "<matplotlib.figure.Figure at 0x7f116db8af10>"
      ]
     },
     "metadata": {},
     "output_type": "display_data"
    }
   ],
   "source": [
    "plt.figure(); \n",
    "currency_list.plot(kind='bar')"
   ]
  },
  {
   "cell_type": "markdown",
   "metadata": {},
   "source": [
    "The 'currency' variable is interesting because it provides insight into the geographic distribution of Kickstarter projects. We found it more useful to look at this before the country variable because currency combines most of Europe into a single unit thus reducing the number of elements. Ultimately, the visualization implies that Kickstarter is dominated by English-speaking countries as four out of the top five currencies are from said nations (US, UK, Canada, and Australia). However, it should be noted that since the US dollar is used extensively internationally, it is worth examining the 'country' variable to see if the US is overrepresented in this visualization. "
   ]
  },
  {
   "cell_type": "code",
   "execution_count": 27,
   "metadata": {},
   "outputs": [],
   "source": [
    "#looking at frequency of projects by country\n",
    "country_list = df.groupby('country ').count()\n",
    "del country_list['name ']\n",
    "del country_list['category ']\n",
    "del country_list['main_category ']\n",
    "del country_list['deadline ']\n",
    "del country_list['goal ']\n",
    "del country_list['launched ']\n",
    "del country_list['pledged ']\n",
    "del country_list['state ']\n",
    "del country_list['backers ']\n",
    "del country_list['currency ']"
   ]
  },
  {
   "cell_type": "code",
   "execution_count": 22,
   "metadata": {},
   "outputs": [
    {
     "data": {
      "text/plain": [
       "<matplotlib.axes._subplots.AxesSubplot at 0x7f116d87d5d0>"
      ]
     },
     "execution_count": 22,
     "metadata": {},
     "output_type": "execute_result"
    },
    {
     "data": {
      "text/plain": [
       "<matplotlib.figure.Figure at 0x7f116d6f2d10>"
      ]
     },
     "metadata": {},
     "output_type": "display_data"
    },
    {
     "data": {
      "image/png": "[encoded data removed]",
      "text/plain": [
       "<matplotlib.figure.Figure at 0x7f116d6f2810>"
      ]
     },
     "metadata": {},
     "output_type": "display_data"
    }
   ],
   "source": [
    "plt.figure(); \n",
    "country_list.plot(kind='bar')"
   ]
  },
  {
   "cell_type": "markdown",
   "metadata": {},
   "source": [
    "This visualization provides further evidence in support of the results from the previous graph - Kickstarter projects are dominated by the English-speaking countries. However, it is important to note that this is only the case for the countries present in the dataset. We do not know why some countries were selected and others were not.\n",
    "\n",
    "Regarding the US dollar's international appeal having a possible effect, there does not appear to be a significant difference when looking at number of projects by currency vs. country. "
   ]
  },
  {
   "cell_type": "code",
   "execution_count": 28,
   "metadata": {},
   "outputs": [],
   "source": [
    "#looking at the main categories for the projects\n",
    "category_list = df.groupby('main_category ').count()\n",
    "del category_list['name ']\n",
    "del category_list['category ']\n",
    "del category_list['state ']\n",
    "del category_list['deadline ']\n",
    "del category_list['currency ']\n",
    "del category_list['goal ']\n",
    "del category_list['launched ']\n",
    "del category_list['pledged ']\n",
    "del category_list['backers ']\n",
    "del category_list['country ']"
   ]
  },
  {
   "cell_type": "code",
   "execution_count": 24,
   "metadata": {},
   "outputs": [
    {
     "data": {
      "text/plain": [
       "<matplotlib.axes._subplots.AxesSubplot at 0x7f116d70de50>"
      ]
     },
     "execution_count": 24,
     "metadata": {},
     "output_type": "execute_result"
    },
    {
     "data": {
      "text/plain": [
       "<matplotlib.figure.Figure at 0x7f116d693650>"
      ]
     },
     "metadata": {},
     "output_type": "display_data"
    },
    {
     "data": {
      "image/png": "[encoded data removed]",
      "text/plain": [
       "<matplotlib.figure.Figure at 0x7f116d652650>"
      ]
     },
     "metadata": {},
     "output_type": "display_data"
    }
   ],
   "source": [
    "plt.figure(); \n",
    "category_list.plot(kind='bar')"
   ]
  },
  {
   "cell_type": "markdown",
   "metadata": {},
   "source": [
    "The frequency chart for the 'main_categories' variable shows a good variety of different types of projects. It seems like Kickstarter has a lot of projects for creative pursuits. The three largest categories are Film & Video, Music, and Publishing. The only category that isn't really considered a creative pursuit would be the Technology category. "
   ]
  },
  {
   "cell_type": "code",
   "execution_count": 29,
   "metadata": {},
   "outputs": [],
   "source": [
    "#looking at projects based upon state of success\n",
    "state_list = df.groupby('state ').count()\n",
    "del state_list['name ']\n",
    "del state_list['category ']\n",
    "del state_list['main_category ']\n",
    "del state_list['deadline ']\n",
    "del state_list['currency ']\n",
    "del state_list['goal ']\n",
    "del state_list['launched ']\n",
    "del state_list['pledged ']\n",
    "del state_list['backers ']\n",
    "del state_list['country ']"
   ]
  },
  {
   "cell_type": "code",
   "execution_count": 18,
   "metadata": {},
   "outputs": [
    {
     "data": {
      "text/plain": [
       "<matplotlib.axes._subplots.AxesSubplot at 0x7f116d8b44d0>"
      ]
     },
     "execution_count": 18,
     "metadata": {},
     "output_type": "execute_result"
    },
    {
     "data": {
      "text/plain": [
       "<matplotlib.figure.Figure at 0x7f116d89fe10>"
      ]
     },
     "metadata": {},
     "output_type": "display_data"
    },
    {
     "data": {
      "image/png": "[encoded data removed]",
      "text/plain": [
       "<matplotlib.figure.Figure at 0x7f116d8ae0d0>"
      ]
     },
     "metadata": {},
     "output_type": "display_data"
    }
   ],
   "source": [
    "plt.figure(); \n",
    "state_list.plot(kind='bar')"
   ]
  },
  {
   "cell_type": "markdown",
   "metadata": {},
   "source": [
    "The 'state' variable is a critical metric for success - it basically represents the situation where the value for 'pledged' is greater than the value for 'goal'. The visualization reveals that even though over half of the projects failed, about a third of the projects were successful. Furthermore, canceled projects is a significant minority of the total number of projects. Finally, live projects and suspended projects both comprise a tiny fraction of the total. "
   ]
  }
 ],
 "metadata": {
  "kernelspec": {
   "display_name": "Python 2",
   "language": "python",
   "name": "python2"
  },
  "language_info": {
   "codemirror_mode": {
    "name": "ipython",
    "version": 2
   },
   "file_extension": ".py",
   "mimetype": "text/x-python",
   "name": "python",
   "nbconvert_exporter": "python",
   "pygments_lexer": "ipython2",
   "version": "2.7.14"
  }
 },
 "nbformat": 4,
 "nbformat_minor": 2
}
