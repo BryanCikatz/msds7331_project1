{
 "cells": [
  {
   "cell_type": "code",
   "execution_count": 2,
   "metadata": {
    "collapsed": true
   },
   "outputs": [],
   "source": [
    "    # loading the dataset\n",
    "    import pandas as pd\n",
    "    import numpy as np\n",
    "    %matplotlib inline\n",
    "    import matplotlib.pyplot as plt\n",
    "    import warnings\n",
    "    warnings.simplefilter('ignore', DeprecationWarning)\n",
    "    df = pd.read_csv('dataset/ks-projects-201612-cleaned.csv',  sep = ',')    "
   ]
  },
  {
   "cell_type": "markdown",
   "metadata": {},
   "source": [
    "## Verify Data Quality:"
   ]
  },
  {
   "cell_type": "code",
   "execution_count": 2,
   "metadata": {},
   "outputs": [
    {
     "name": "stdout",
     "output_type": "stream",
     "text": [
      "   uniqueId                                              name   \\\n",
      "0      5971              An American Apocalypse: The Reckoning   \n",
      "1     18520                                 Grandma's are Life   \n",
      "2     21109                                               Meta   \n",
      "3     21371                                  Water Powered Car   \n",
      "4     24380  Puss N' Books: A relaxing cat cafe and bookstore.   \n",
      "\n",
      "         category  main_category  currency          deadline     goal   \\\n",
      "0           Comics         Comics       USD    8/6/2012 20:00  48000.0   \n",
      "1      World Music          Music       USD  11/18/2016 15:32  15000.0   \n",
      "2  Performance Art            Art       GBP    5/6/2015 23:00    150.0   \n",
      "3       Technology     Technology       USD   8/10/2016 19:02  75000.0   \n",
      "4           Spaces           Food       USD  11/26/2015 17:25  20000.0   \n",
      "\n",
      "          launched   pledged       state   backers  country   \n",
      "0    6/8/2012 18:46     376.0      failed         7       US  \n",
      "1  10/19/2016 15:32      62.0      failed         4       US  \n",
      "2     4/8/2015 0:37     173.0  successful        11       GB  \n",
      "3   7/26/2016 19:02     120.0      failed         4       US  \n",
      "4  10/27/2015 16:25     776.0      failed        18       US  \n"
     ]
    }
   ],
   "source": [
    "print(df.head())"
   ]
  },
  {
   "cell_type": "code",
   "execution_count": 3,
   "metadata": {},
   "outputs": [
    {
     "name": "stdout",
     "output_type": "stream",
     "text": [
      "<class 'pandas.core.frame.DataFrame'>\n",
      "RangeIndex: 319556 entries, 0 to 319555\n",
      "Data columns (total 12 columns):\n",
      "uniqueId          319556 non-null int64\n",
      "name              319554 non-null object\n",
      "category          319556 non-null object\n",
      "main_category     319556 non-null object\n",
      "currency          319556 non-null object\n",
      "deadline          319556 non-null object\n",
      "goal              319556 non-null float64\n",
      "launched          319556 non-null object\n",
      "pledged           319556 non-null float64\n",
      "state             319556 non-null object\n",
      "backers           319556 non-null int64\n",
      "country           319556 non-null object\n",
      "dtypes: float64(2), int64(2), object(8)\n",
      "memory usage: 29.3+ MB\n",
      "None\n"
     ]
    }
   ],
   "source": [
    "print (df.info())"
   ]
  },
  {
   "cell_type": "code",
   "execution_count": 4,
   "metadata": {},
   "outputs": [
    {
     "name": "stdout",
     "output_type": "stream",
     "text": [
      "uniqueId            int64\n",
      "name               object\n",
      "category           object\n",
      "main_category      object\n",
      "currency           object\n",
      "deadline           object\n",
      "goal              float64\n",
      "launched           object\n",
      "pledged           float64\n",
      "state              object\n",
      "backers             int64\n",
      "country            object\n",
      "dtype: object\n"
     ]
    }
   ],
   "source": [
    "print (df.dtypes)"
   ]
  },
  {
   "cell_type": "markdown",
   "metadata": {},
   "source": [
    "## Visualize Appropriate Statistics:"
   ]
  },
  {
   "cell_type": "code",
   "execution_count": 5,
   "metadata": {},
   "outputs": [
    {
     "data": {
      "text/html": [
       "<div>\n",
       "<style>\n",
       "    .dataframe thead tr:only-child th {\n",
       "        text-align: right;\n",
       "    }\n",
       "\n",
       "    .dataframe thead th {\n",
       "        text-align: left;\n",
       "    }\n",
       "\n",
       "    .dataframe tbody tr th {\n",
       "        vertical-align: top;\n",
       "    }\n",
       "</style>\n",
       "<table border=\"1\" class=\"dataframe\">\n",
       "  <thead>\n",
       "    <tr style=\"text-align: right;\">\n",
       "      <th></th>\n",
       "      <th>uniqueId</th>\n",
       "      <th>goal</th>\n",
       "      <th>pledged</th>\n",
       "      <th>backers</th>\n",
       "    </tr>\n",
       "  </thead>\n",
       "  <tbody>\n",
       "    <tr>\n",
       "      <th>count</th>\n",
       "      <td>3.195560e+05</td>\n",
       "      <td>3.195560e+05</td>\n",
       "      <td>3.195560e+05</td>\n",
       "      <td>319556.000000</td>\n",
       "    </tr>\n",
       "    <tr>\n",
       "      <th>mean</th>\n",
       "      <td>1.074799e+09</td>\n",
       "      <td>4.762898e+04</td>\n",
       "      <td>8.768322e+03</td>\n",
       "      <td>102.767775</td>\n",
       "    </tr>\n",
       "    <tr>\n",
       "      <th>std</th>\n",
       "      <td>6.193688e+08</td>\n",
       "      <td>1.145902e+06</td>\n",
       "      <td>9.008106e+04</td>\n",
       "      <td>940.051571</td>\n",
       "    </tr>\n",
       "    <tr>\n",
       "      <th>min</th>\n",
       "      <td>5.971000e+03</td>\n",
       "      <td>1.000000e-02</td>\n",
       "      <td>0.000000e+00</td>\n",
       "      <td>0.000000</td>\n",
       "    </tr>\n",
       "    <tr>\n",
       "      <th>25%</th>\n",
       "      <td>5.374245e+08</td>\n",
       "      <td>2.000000e+03</td>\n",
       "      <td>3.000000e+01</td>\n",
       "      <td>2.000000</td>\n",
       "    </tr>\n",
       "    <tr>\n",
       "      <th>50%</th>\n",
       "      <td>1.075709e+09</td>\n",
       "      <td>5.000000e+03</td>\n",
       "      <td>6.100000e+02</td>\n",
       "      <td>12.000000</td>\n",
       "    </tr>\n",
       "    <tr>\n",
       "      <th>75%</th>\n",
       "      <td>1.611023e+09</td>\n",
       "      <td>1.500000e+04</td>\n",
       "      <td>3.940000e+03</td>\n",
       "      <td>55.000000</td>\n",
       "    </tr>\n",
       "    <tr>\n",
       "      <th>max</th>\n",
       "      <td>2.147476e+09</td>\n",
       "      <td>1.000000e+08</td>\n",
       "      <td>2.033899e+07</td>\n",
       "      <td>219382.000000</td>\n",
       "    </tr>\n",
       "  </tbody>\n",
       "</table>\n",
       "</div>"
      ],
      "text/plain": [
       "           uniqueId         goal       pledged        backers \n",
       "count  3.195560e+05  3.195560e+05  3.195560e+05  319556.000000\n",
       "mean   1.074799e+09  4.762898e+04  8.768322e+03     102.767775\n",
       "std    6.193688e+08  1.145902e+06  9.008106e+04     940.051571\n",
       "min    5.971000e+03  1.000000e-02  0.000000e+00       0.000000\n",
       "25%    5.374245e+08  2.000000e+03  3.000000e+01       2.000000\n",
       "50%    1.075709e+09  5.000000e+03  6.100000e+02      12.000000\n",
       "75%    1.611023e+09  1.500000e+04  3.940000e+03      55.000000\n",
       "max    2.147476e+09  1.000000e+08  2.033899e+07  219382.000000"
      ]
     },
     "execution_count": 5,
     "metadata": {},
     "output_type": "execute_result"
    }
   ],
   "source": [
    "df.describe()"
   ]
  },
  {
   "cell_type": "markdown",
   "metadata": {
    "collapsed": true
   },
   "source": [
    "## Visualize Interesting Attributes:"
   ]
  },
  {
   "cell_type": "code",
   "execution_count": 30,
   "metadata": {
    "collapsed": true
   },
   "outputs": [],
   "source": [
    "#looking at frequency of projects by currency\n",
    "currency_list = df.groupby('currency ').count()\n",
    "del currency_list['name ']\n",
    "del currency_list['category ']\n",
    "del currency_list['main_category ']\n",
    "del currency_list['deadline ']\n",
    "del currency_list['goal ']\n",
    "del currency_list['launched ']\n",
    "del currency_list['pledged ']\n",
    "del currency_list['state ']\n",
    "del currency_list['backers ']\n",
    "del currency_list['country ']"
   ]
  },
  {
   "cell_type": "code",
   "execution_count": 13,
   "metadata": {},
   "outputs": [
    {
     "data": {
      "text/plain": [
       "<matplotlib.axes._subplots.AxesSubplot at 0x7f116db6d910>"
      ]
     },
     "execution_count": 13,
     "metadata": {},
     "output_type": "execute_result"
    },
    {
     "data": {
      "text/plain": [
       "<matplotlib.figure.Figure at 0x7f116dc68610>"
      ]
     },
     "metadata": {},
     "output_type": "display_data"
    },
    {
     "data": {
      "image/png": "[encoded data removed]",
      "text/plain": [
       "<matplotlib.figure.Figure at 0x7f116db8af10>"
      ]
     },
     "metadata": {},
     "output_type": "display_data"
    }
   ],
   "source": [
    "plt.figure(); \n",
    "currency_list.plot(kind='bar')"
   ]
  },
  {
   "cell_type": "markdown",
   "metadata": {},
   "source": [
    "The 'currency' variable is interesting because it provides insight into the geographic distribution of Kickstarter projects. We found it more useful to look at this before the country variable because currency combines most of Europe into a single unit thus reducing the number of elements. Ultimately, the visualization implies that Kickstarter is dominated by English-speaking countries as four out of the top five currencies are from said nations (US, UK, Canada, and Australia). However, it should be noted that since the US dollar is used extensively internationally, it is worth examining the 'country' variable to see if the US is overrepresented in this visualization. "
   ]
  },
  {
   "cell_type": "code",
   "execution_count": 27,
   "metadata": {
    "collapsed": true
   },
   "outputs": [],
   "source": [
    "#looking at frequency of projects by country\n",
    "country_list = df.groupby('country ').count()\n",
    "del country_list['name ']\n",
    "del country_list['category ']\n",
    "del country_list['main_category ']\n",
    "del country_list['deadline ']\n",
    "del country_list['goal ']\n",
    "del country_list['launched ']\n",
    "del country_list['pledged ']\n",
    "del country_list['state ']\n",
    "del country_list['backers ']\n",
    "del country_list['currency ']"
   ]
  },
  {
   "cell_type": "code",
   "execution_count": 22,
   "metadata": {},
   "outputs": [
    {
     "data": {
      "text/plain": [
       "<matplotlib.axes._subplots.AxesSubplot at 0x7f116d87d5d0>"
      ]
     },
     "execution_count": 22,
     "metadata": {},
     "output_type": "execute_result"
    },
    {
     "data": {
      "text/plain": [
       "<matplotlib.figure.Figure at 0x7f116d6f2d10>"
      ]
     },
     "metadata": {},
     "output_type": "display_data"
    },
    {
     "data": {
      "image/png": "[encoded data removed]",
      "text/plain": [
       "<matplotlib.figure.Figure at 0x7f116d6f2810>"
      ]
     },
     "metadata": {},
     "output_type": "display_data"
    }
   ],
   "source": [
    "plt.figure(); \n",
    "country_list.plot(kind='bar')"
   ]
  },
  {
   "cell_type": "markdown",
   "metadata": {},
   "source": [
    "This visualization provides further evidence in support of the results from the previous graph - Kickstarter projects are dominated by the English-speaking countries. However, it is important to note that this is only the case for the countries present in the dataset. We do not know why some countries were selected and others were not.\n",
    "\n",
    "Regarding the US dollar's international appeal having a possible effect, there does not appear to be a significant difference when looking at number of projects by currency vs. country. "
   ]
  },
  {
   "cell_type": "code",
   "execution_count": 28,
   "metadata": {
    "collapsed": true
   },
   "outputs": [],
   "source": [
    "#looking at the main categories for the projects\n",
    "category_list = df.groupby('main_category ').count()\n",
    "del category_list['name ']\n",
    "del category_list['category ']\n",
    "del category_list['state ']\n",
    "del category_list['deadline ']\n",
    "del category_list['currency ']\n",
    "del category_list['goal ']\n",
    "del category_list['launched ']\n",
    "del category_list['pledged ']\n",
    "del category_list['backers ']\n",
    "del category_list['country ']"
   ]
  },
  {
   "cell_type": "code",
   "execution_count": 24,
   "metadata": {},
   "outputs": [
    {
     "data": {
      "text/plain": [
       "<matplotlib.axes._subplots.AxesSubplot at 0x7f116d70de50>"
      ]
     },
     "execution_count": 24,
     "metadata": {},
     "output_type": "execute_result"
    },
    {
     "data": {
      "text/plain": [
       "<matplotlib.figure.Figure at 0x7f116d693650>"
      ]
     },
     "metadata": {},
     "output_type": "display_data"
    },
    {
     "data": {
      "image/png": "[encoded data removed]",
      "text/plain": [
       "<matplotlib.figure.Figure at 0x7f116d652650>"
      ]
     },
     "metadata": {},
     "output_type": "display_data"
    }
   ],
   "source": [
    "plt.figure(); \n",
    "category_list.plot(kind='bar')"
   ]
  },
  {
   "cell_type": "markdown",
   "metadata": {},
   "source": [
    "The frequency chart for the 'main_categories' variable shows a good variety of different types of projects. It seems like Kickstarter has a lot of projects for creative pursuits. The three largest categories are Film & Video, Music, and Publishing. The only category that isn't really considered a creative pursuit would be the Technology category. "
   ]
  },
  {
   "cell_type": "code",
   "execution_count": 29,
   "metadata": {
    "collapsed": true
   },
   "outputs": [],
   "source": [
    "#looking at projects based upon state of success\n",
    "state_list = df.groupby('state ').count()\n",
    "del state_list['name ']\n",
    "del state_list['category ']\n",
    "del state_list['main_category ']\n",
    "del state_list['deadline ']\n",
    "del state_list['currency ']\n",
    "del state_list['goal ']\n",
    "del state_list['launched ']\n",
    "del state_list['pledged ']\n",
    "del state_list['backers ']\n",
    "del state_list['country ']"
   ]
  },
  {
   "cell_type": "code",
   "execution_count": 18,
   "metadata": {},
   "outputs": [
    {
     "data": {
      "text/plain": [
       "<matplotlib.axes._subplots.AxesSubplot at 0x7f116d8b44d0>"
      ]
     },
     "execution_count": 18,
     "metadata": {},
     "output_type": "execute_result"
    },
    {
     "data": {
      "text/plain": [
       "<matplotlib.figure.Figure at 0x7f116d89fe10>"
      ]
     },
     "metadata": {},
     "output_type": "display_data"
    },
    {
     "data": {
      "image/png": "[encoded data removed]",
      "text/plain": [
       "<matplotlib.figure.Figure at 0x7f116d8ae0d0>"
      ]
     },
     "metadata": {},
     "output_type": "display_data"
    }
   ],
   "source": [
    "plt.figure(); \n",
    "state_list.plot(kind='bar')"
   ]
  },
  {
   "cell_type": "markdown",
   "metadata": {},
   "source": [
    "The 'state' variable is a critical metric for success - it basically represents the situation where the value for 'pledged' is greater than the value for 'goal'. The visualization reveals that even though over half of the projects failed, about a third of the projects were successful. Furthermore, canceled projects is a significant minority of the total number of projects. Finally, live projects and suspended projects both comprise a tiny fraction of the total. "
   ]
  },
  {
   "cell_type": "markdown",
   "metadata": {},
   "source": [
    "## Visualize Relationships Between Attributes:"
   ]
  },
  {
   "cell_type": "code",
   "execution_count": 70,
   "metadata": {
    "collapsed": true
   },
   "outputs": [],
   "source": [
    "#looking at the relationship between success and goal\n",
    "mean_by_state = df.groupby(['state ']).mean()\n",
    "mean_by_state_goal = mean_by_state['goal ']"
   ]
  },
  {
   "cell_type": "code",
   "execution_count": 71,
   "metadata": {},
   "outputs": [
    {
     "name": "stdout",
     "output_type": "stream",
     "text": [
      "state \n",
      "canceled       88007.605265\n",
      "failed         63484.142409\n",
      "live           64116.569783\n",
      "successful      9624.572525\n",
      "suspended     217609.439783\n",
      "Name: goal , dtype: float64\n"
     ]
    },
    {
     "data": {
      "image/png": "[encoded data removed]",
      "text/plain": [
       "<matplotlib.figure.Figure at 0x7f11603c2c50>"
      ]
     },
     "metadata": {},
     "output_type": "display_data"
    }
   ],
   "source": [
    "plt.figure(); \n",
    "mean_by_state_goal.plot(kind='bar')\n",
    "print(mean_by_state_goal)"
   ]
  },
  {
   "cell_type": "markdown",
   "metadata": {},
   "source": [
    "It is clear from the above graph that there is an inverse relationship between the success of a project and the fundraising goal. In other words, a project is more likely to succeed if it sets a lower fundraising goal. A successful project has an average goal of 9,624 while a failed project has an average goal of 63,484. However, because the average is affected by outliers, it is worth examining the spread of the values for the various states of success."
   ]
  },
  {
   "cell_type": "code",
   "execution_count": 81,
   "metadata": {},
   "outputs": [
    {
     "data": {
      "image/png": "[encoded data removed]",
      "text/plain": [
       "<matplotlib.figure.Figure at 0x7f115d49fa50>"
      ]
     },
     "metadata": {},
     "output_type": "display_data"
    }
   ],
   "source": [
    "plt.scatter(df['state '], df['goal '])\n",
    "plt.show()"
   ]
  },
  {
   "cell_type": "code",
   "execution_count": null,
   "metadata": {
    "collapsed": true
   },
   "outputs": [],
   "source": []
  },
  {
   "cell_type": "code",
   "execution_count": 40,
   "metadata": {
    "collapsed": true
   },
   "outputs": [],
   "source": [
    "#success and country"
   ]
  },
  {
   "cell_type": "code",
   "execution_count": 49,
   "metadata": {},
   "outputs": [
    {
     "data": {
      "text/html": [
       "<div>\n",
       "<style>\n",
       "    .dataframe thead tr:only-child th {\n",
       "        text-align: right;\n",
       "    }\n",
       "\n",
       "    .dataframe thead th {\n",
       "        text-align: left;\n",
       "    }\n",
       "\n",
       "    .dataframe tbody tr th {\n",
       "        vertical-align: top;\n",
       "    }\n",
       "</style>\n",
       "<table border=\"1\" class=\"dataframe\">\n",
       "  <thead>\n",
       "    <tr style=\"text-align: right;\">\n",
       "      <th></th>\n",
       "      <th>uniqueId</th>\n",
       "      <th>goal</th>\n",
       "      <th>pledged</th>\n",
       "      <th>backers</th>\n",
       "    </tr>\n",
       "    <tr>\n",
       "      <th>main_category</th>\n",
       "      <th></th>\n",
       "      <th></th>\n",
       "      <th></th>\n",
       "      <th></th>\n",
       "    </tr>\n",
       "  </thead>\n",
       "  <tbody>\n",
       "    <tr>\n",
       "      <th>Art</th>\n",
       "      <td>1.079096e+09</td>\n",
       "      <td>36414.677210</td>\n",
       "      <td>3201.643394</td>\n",
       "      <td>39.444194</td>\n",
       "    </tr>\n",
       "    <tr>\n",
       "      <th>Comics</th>\n",
       "      <td>1.063545e+09</td>\n",
       "      <td>22910.229817</td>\n",
       "      <td>6792.104455</td>\n",
       "      <td>134.231728</td>\n",
       "    </tr>\n",
       "    <tr>\n",
       "      <th>Crafts</th>\n",
       "      <td>1.079984e+09</td>\n",
       "      <td>11710.819618</td>\n",
       "      <td>1643.624411</td>\n",
       "      <td>26.949735</td>\n",
       "    </tr>\n",
       "    <tr>\n",
       "      <th>Dance</th>\n",
       "      <td>1.075872e+09</td>\n",
       "      <td>9711.001276</td>\n",
       "      <td>3404.280878</td>\n",
       "      <td>43.245328</td>\n",
       "    </tr>\n",
       "    <tr>\n",
       "      <th>Design</th>\n",
       "      <td>1.077119e+09</td>\n",
       "      <td>49203.705763</td>\n",
       "      <td>24114.455341</td>\n",
       "      <td>237.516679</td>\n",
       "    </tr>\n",
       "    <tr>\n",
       "      <th>Fashion</th>\n",
       "      <td>1.070577e+09</td>\n",
       "      <td>24750.837089</td>\n",
       "      <td>6053.074531</td>\n",
       "      <td>62.275695</td>\n",
       "    </tr>\n",
       "    <tr>\n",
       "      <th>Film &amp; Video</th>\n",
       "      <td>1.072852e+09</td>\n",
       "      <td>74023.710164</td>\n",
       "      <td>6230.237600</td>\n",
       "      <td>67.474449</td>\n",
       "    </tr>\n",
       "    <tr>\n",
       "      <th>Food</th>\n",
       "      <td>1.081282e+09</td>\n",
       "      <td>50572.268969</td>\n",
       "      <td>5075.929881</td>\n",
       "      <td>54.366733</td>\n",
       "    </tr>\n",
       "    <tr>\n",
       "      <th>Games</th>\n",
       "      <td>1.074255e+09</td>\n",
       "      <td>55624.299036</td>\n",
       "      <td>20705.786609</td>\n",
       "      <td>324.164976</td>\n",
       "    </tr>\n",
       "    <tr>\n",
       "      <th>Journalism</th>\n",
       "      <td>1.079386e+09</td>\n",
       "      <td>95423.538285</td>\n",
       "      <td>2950.053532</td>\n",
       "      <td>38.332514</td>\n",
       "    </tr>\n",
       "    <tr>\n",
       "      <th>Music</th>\n",
       "      <td>1.073490e+09</td>\n",
       "      <td>15868.489996</td>\n",
       "      <td>3887.456530</td>\n",
       "      <td>53.934183</td>\n",
       "    </tr>\n",
       "    <tr>\n",
       "      <th>Photography</th>\n",
       "      <td>1.068152e+09</td>\n",
       "      <td>12721.157147</td>\n",
       "      <td>3237.506022</td>\n",
       "      <td>37.368830</td>\n",
       "    </tr>\n",
       "    <tr>\n",
       "      <th>Publishing</th>\n",
       "      <td>1.079686e+09</td>\n",
       "      <td>31015.920936</td>\n",
       "      <td>3333.476420</td>\n",
       "      <td>53.019521</td>\n",
       "    </tr>\n",
       "    <tr>\n",
       "      <th>Technology</th>\n",
       "      <td>1.073753e+09</td>\n",
       "      <td>116358.113936</td>\n",
       "      <td>20929.801526</td>\n",
       "      <td>165.733658</td>\n",
       "    </tr>\n",
       "    <tr>\n",
       "      <th>Theater</th>\n",
       "      <td>1.067918e+09</td>\n",
       "      <td>26503.686206</td>\n",
       "      <td>3941.179207</td>\n",
       "      <td>47.422892</td>\n",
       "    </tr>\n",
       "  </tbody>\n",
       "</table>\n",
       "</div>"
      ],
      "text/plain": [
       "                    uniqueId          goal       pledged     backers \n",
       "main_category                                                        \n",
       "Art             1.079096e+09   36414.677210   3201.643394   39.444194\n",
       "Comics          1.063545e+09   22910.229817   6792.104455  134.231728\n",
       "Crafts          1.079984e+09   11710.819618   1643.624411   26.949735\n",
       "Dance           1.075872e+09    9711.001276   3404.280878   43.245328\n",
       "Design          1.077119e+09   49203.705763  24114.455341  237.516679\n",
       "Fashion         1.070577e+09   24750.837089   6053.074531   62.275695\n",
       "Film & Video    1.072852e+09   74023.710164   6230.237600   67.474449\n",
       "Food            1.081282e+09   50572.268969   5075.929881   54.366733\n",
       "Games           1.074255e+09   55624.299036  20705.786609  324.164976\n",
       "Journalism      1.079386e+09   95423.538285   2950.053532   38.332514\n",
       "Music           1.073490e+09   15868.489996   3887.456530   53.934183\n",
       "Photography     1.068152e+09   12721.157147   3237.506022   37.368830\n",
       "Publishing      1.079686e+09   31015.920936   3333.476420   53.019521\n",
       "Technology      1.073753e+09  116358.113936  20929.801526  165.733658\n",
       "Theater         1.067918e+09   26503.686206   3941.179207   47.422892"
      ]
     },
     "execution_count": 49,
     "metadata": {},
     "output_type": "execute_result"
    }
   ],
   "source": [
    "#success and category\n",
    "df.groupby(['main_category ']).mean()"
   ]
  },
  {
   "cell_type": "code",
   "execution_count": 58,
   "metadata": {
    "collapsed": true
   },
   "outputs": [
    {
     "ename": "KeyError",
     "evalue": "'uniqueID '",
     "output_type": "error",
     "traceback": [
      "\u001b[0;31m\u001b[0m",
      "\u001b[0;31mKeyError\u001b[0mTraceback (most recent call last)",
      "\u001b[0;32m<ipython-input-58-6813ce7dea80>\u001b[0m in \u001b[0;36m<module>\u001b[0;34m()\u001b[0m\n\u001b[1;32m      1\u001b[0m \u001b[0mcategory_mean\u001b[0m \u001b[0;34m=\u001b[0m \u001b[0mdf\u001b[0m\u001b[0;34m.\u001b[0m\u001b[0mgroupby\u001b[0m\u001b[0;34m(\u001b[0m\u001b[0;34m[\u001b[0m\u001b[0;34m'main_category '\u001b[0m\u001b[0;34m]\u001b[0m\u001b[0;34m)\u001b[0m\u001b[0;34m.\u001b[0m\u001b[0mmean\u001b[0m\u001b[0;34m(\u001b[0m\u001b[0;34m)\u001b[0m\u001b[0;34m\u001b[0m\u001b[0m\n\u001b[0;32m----> 2\u001b[0;31m \u001b[0;32mdel\u001b[0m \u001b[0mcategory_mean\u001b[0m\u001b[0;34m[\u001b[0m\u001b[0;34m'uniqueID '\u001b[0m\u001b[0;34m]\u001b[0m\u001b[0;34m\u001b[0m\u001b[0m\n\u001b[0m\u001b[1;32m      3\u001b[0m \u001b[0;32mprint\u001b[0m\u001b[0;34m(\u001b[0m\u001b[0mcategory_mean\u001b[0m\u001b[0;34m)\u001b[0m\u001b[0;34m\u001b[0m\u001b[0m\n",
      "\u001b[0;32m/opt/conda/lib/python2.7/site-packages/pandas/core/generic.pyc\u001b[0m in \u001b[0;36m__delitem__\u001b[0;34m(self, key)\u001b[0m\n\u001b[1;32m   1899\u001b[0m             \u001b[0;31m# there was no match, this call should raise the appropriate\u001b[0m\u001b[0;34m\u001b[0m\u001b[0;34m\u001b[0m\u001b[0m\n\u001b[1;32m   1900\u001b[0m             \u001b[0;31m# exception:\u001b[0m\u001b[0;34m\u001b[0m\u001b[0;34m\u001b[0m\u001b[0m\n\u001b[0;32m-> 1901\u001b[0;31m             \u001b[0mself\u001b[0m\u001b[0;34m.\u001b[0m\u001b[0m_data\u001b[0m\u001b[0;34m.\u001b[0m\u001b[0mdelete\u001b[0m\u001b[0;34m(\u001b[0m\u001b[0mkey\u001b[0m\u001b[0;34m)\u001b[0m\u001b[0;34m\u001b[0m\u001b[0m\n\u001b[0m\u001b[1;32m   1902\u001b[0m \u001b[0;34m\u001b[0m\u001b[0m\n\u001b[1;32m   1903\u001b[0m         \u001b[0;31m# delete from the caches\u001b[0m\u001b[0;34m\u001b[0m\u001b[0;34m\u001b[0m\u001b[0m\n",
      "\u001b[0;32m/opt/conda/lib/python2.7/site-packages/pandas/core/internals.pyc\u001b[0m in \u001b[0;36mdelete\u001b[0;34m(self, item)\u001b[0m\n\u001b[1;32m   3647\u001b[0m         \u001b[0mDelete\u001b[0m \u001b[0mselected\u001b[0m \u001b[0mitem\u001b[0m \u001b[0;34m(\u001b[0m\u001b[0mitems\u001b[0m \u001b[0;32mif\u001b[0m \u001b[0mnon\u001b[0m\u001b[0;34m-\u001b[0m\u001b[0munique\u001b[0m\u001b[0;34m)\u001b[0m \u001b[0;32min\u001b[0m\u001b[0;34m-\u001b[0m\u001b[0mplace\u001b[0m\u001b[0;34m.\u001b[0m\u001b[0;34m\u001b[0m\u001b[0m\n\u001b[1;32m   3648\u001b[0m         \"\"\"\n\u001b[0;32m-> 3649\u001b[0;31m         \u001b[0mindexer\u001b[0m \u001b[0;34m=\u001b[0m \u001b[0mself\u001b[0m\u001b[0;34m.\u001b[0m\u001b[0mitems\u001b[0m\u001b[0;34m.\u001b[0m\u001b[0mget_loc\u001b[0m\u001b[0;34m(\u001b[0m\u001b[0mitem\u001b[0m\u001b[0;34m)\u001b[0m\u001b[0;34m\u001b[0m\u001b[0m\n\u001b[0m\u001b[1;32m   3650\u001b[0m \u001b[0;34m\u001b[0m\u001b[0m\n\u001b[1;32m   3651\u001b[0m         \u001b[0mis_deleted\u001b[0m \u001b[0;34m=\u001b[0m \u001b[0mnp\u001b[0m\u001b[0;34m.\u001b[0m\u001b[0mzeros\u001b[0m\u001b[0;34m(\u001b[0m\u001b[0mself\u001b[0m\u001b[0;34m.\u001b[0m\u001b[0mshape\u001b[0m\u001b[0;34m[\u001b[0m\u001b[0;36m0\u001b[0m\u001b[0;34m]\u001b[0m\u001b[0;34m,\u001b[0m \u001b[0mdtype\u001b[0m\u001b[0;34m=\u001b[0m\u001b[0mnp\u001b[0m\u001b[0;34m.\u001b[0m\u001b[0mbool_\u001b[0m\u001b[0;34m)\u001b[0m\u001b[0;34m\u001b[0m\u001b[0m\n",
      "\u001b[0;32m/opt/conda/lib/python2.7/site-packages/pandas/core/indexes/base.pyc\u001b[0m in \u001b[0;36mget_loc\u001b[0;34m(self, key, method, tolerance)\u001b[0m\n\u001b[1;32m   2442\u001b[0m                 \u001b[0;32mreturn\u001b[0m \u001b[0mself\u001b[0m\u001b[0;34m.\u001b[0m\u001b[0m_engine\u001b[0m\u001b[0;34m.\u001b[0m\u001b[0mget_loc\u001b[0m\u001b[0;34m(\u001b[0m\u001b[0mkey\u001b[0m\u001b[0;34m)\u001b[0m\u001b[0;34m\u001b[0m\u001b[0m\n\u001b[1;32m   2443\u001b[0m             \u001b[0;32mexcept\u001b[0m \u001b[0mKeyError\u001b[0m\u001b[0;34m:\u001b[0m\u001b[0;34m\u001b[0m\u001b[0m\n\u001b[0;32m-> 2444\u001b[0;31m                 \u001b[0;32mreturn\u001b[0m \u001b[0mself\u001b[0m\u001b[0;34m.\u001b[0m\u001b[0m_engine\u001b[0m\u001b[0;34m.\u001b[0m\u001b[0mget_loc\u001b[0m\u001b[0;34m(\u001b[0m\u001b[0mself\u001b[0m\u001b[0;34m.\u001b[0m\u001b[0m_maybe_cast_indexer\u001b[0m\u001b[0;34m(\u001b[0m\u001b[0mkey\u001b[0m\u001b[0;34m)\u001b[0m\u001b[0;34m)\u001b[0m\u001b[0;34m\u001b[0m\u001b[0m\n\u001b[0m\u001b[1;32m   2445\u001b[0m \u001b[0;34m\u001b[0m\u001b[0m\n\u001b[1;32m   2446\u001b[0m         \u001b[0mindexer\u001b[0m \u001b[0;34m=\u001b[0m \u001b[0mself\u001b[0m\u001b[0;34m.\u001b[0m\u001b[0mget_indexer\u001b[0m\u001b[0;34m(\u001b[0m\u001b[0;34m[\u001b[0m\u001b[0mkey\u001b[0m\u001b[0;34m]\u001b[0m\u001b[0;34m,\u001b[0m \u001b[0mmethod\u001b[0m\u001b[0;34m=\u001b[0m\u001b[0mmethod\u001b[0m\u001b[0;34m,\u001b[0m \u001b[0mtolerance\u001b[0m\u001b[0;34m=\u001b[0m\u001b[0mtolerance\u001b[0m\u001b[0;34m)\u001b[0m\u001b[0;34m\u001b[0m\u001b[0m\n",
      "\u001b[0;32mpandas/_libs/index.pyx\u001b[0m in \u001b[0;36mpandas._libs.index.IndexEngine.get_loc\u001b[0;34m()\u001b[0m\n",
      "\u001b[0;32mpandas/_libs/index.pyx\u001b[0m in \u001b[0;36mpandas._libs.index.IndexEngine.get_loc\u001b[0;34m()\u001b[0m\n",
      "\u001b[0;32mpandas/_libs/hashtable_class_helper.pxi\u001b[0m in \u001b[0;36mpandas._libs.hashtable.PyObjectHashTable.get_item\u001b[0;34m()\u001b[0m\n",
      "\u001b[0;32mpandas/_libs/hashtable_class_helper.pxi\u001b[0m in \u001b[0;36mpandas._libs.hashtable.PyObjectHashTable.get_item\u001b[0;34m()\u001b[0m\n",
      "\u001b[0;31mKeyError\u001b[0m: 'uniqueID '"
     ]
    }
   ],
   "source": [
    "category_mean = df.groupby(['main_category ']).mean()\n",
    "del category_mean['uniqueID ']\n",
    "print(category_mean)"
   ]
  },
  {
   "cell_type": "code",
   "execution_count": 3,
   "metadata": {},
   "outputs": [],
   "source": [
    "#success and backers\n",
    "mean_by_state = df.groupby(['state ']).mean()\n",
    "mean_by_state_backers = mean_by_state['backers ']"
   ]
  },
  {
   "cell_type": "code",
   "execution_count": 4,
   "metadata": {},
   "outputs": [
    {
     "name": "stdout",
     "output_type": "stream",
     "text": [
      "state \n",
      "canceled       25.182484\n",
      "failed         16.771230\n",
      "live           80.330172\n",
      "successful    253.624322\n",
      "suspended     113.930311\n",
      "Name: backers , dtype: float64\n"
     ]
    },
    {
     "data": {
      "image/png": "[encoded data removed]",
      "text/plain": [
       "<matplotlib.figure.Figure at 0x7f65766cb510>"
      ]
     },
     "metadata": {},
     "output_type": "display_data"
    }
   ],
   "source": [
    "plt.figure(); \n",
    "mean_by_state_backers.plot(kind='bar')\n",
    "print(mean_by_state_backers)"
   ]
  },
  {
   "cell_type": "code",
   "execution_count": 39,
   "metadata": {},
   "outputs": [
    {
     "data": {
      "image/png": "[encoded data removed]",
      "text/plain": [
       "<matplotlib.figure.Figure at 0x7f1160567c50>"
      ]
     },
     "metadata": {},
     "output_type": "display_data"
    }
   ],
   "source": [
    "#looking at the relationship between pledged and country\n",
    "plt.scatter(df['country '], df['pledged '])\n",
    "plt.show()"
   ]
  },
  {
   "cell_type": "code",
   "execution_count": 46,
   "metadata": {},
   "outputs": [
    {
     "data": {
      "text/html": [
       "<div>\n",
       "<style>\n",
       "    .dataframe thead tr:only-child th {\n",
       "        text-align: right;\n",
       "    }\n",
       "\n",
       "    .dataframe thead th {\n",
       "        text-align: left;\n",
       "    }\n",
       "\n",
       "    .dataframe tbody tr th {\n",
       "        vertical-align: top;\n",
       "    }\n",
       "</style>\n",
       "<table border=\"1\" class=\"dataframe\">\n",
       "  <thead>\n",
       "    <tr style=\"text-align: right;\">\n",
       "      <th></th>\n",
       "      <th>uniqueId</th>\n",
       "      <th>goal</th>\n",
       "      <th>pledged</th>\n",
       "      <th>backers</th>\n",
       "    </tr>\n",
       "    <tr>\n",
       "      <th>country</th>\n",
       "      <th></th>\n",
       "      <th></th>\n",
       "      <th></th>\n",
       "      <th></th>\n",
       "    </tr>\n",
       "  </thead>\n",
       "  <tbody>\n",
       "    <tr>\n",
       "      <th>AT</th>\n",
       "      <td>1.100793e+09</td>\n",
       "      <td>38509.753316</td>\n",
       "      <td>9952.875915</td>\n",
       "      <td>56.793103</td>\n",
       "    </tr>\n",
       "    <tr>\n",
       "      <th>AU</th>\n",
       "      <td>1.074751e+09</td>\n",
       "      <td>82093.709910</td>\n",
       "      <td>6539.322473</td>\n",
       "      <td>75.295061</td>\n",
       "    </tr>\n",
       "    <tr>\n",
       "      <th>BE</th>\n",
       "      <td>1.063793e+09</td>\n",
       "      <td>38381.221393</td>\n",
       "      <td>6101.848632</td>\n",
       "      <td>45.885572</td>\n",
       "    </tr>\n",
       "    <tr>\n",
       "      <th>CA</th>\n",
       "      <td>1.080666e+09</td>\n",
       "      <td>58444.585057</td>\n",
       "      <td>7343.379632</td>\n",
       "      <td>85.783022</td>\n",
       "    </tr>\n",
       "    <tr>\n",
       "      <th>CH</th>\n",
       "      <td>1.042213e+09</td>\n",
       "      <td>293571.568085</td>\n",
       "      <td>11320.132489</td>\n",
       "      <td>70.408511</td>\n",
       "    </tr>\n",
       "    <tr>\n",
       "      <th>DE</th>\n",
       "      <td>1.068757e+09</td>\n",
       "      <td>50682.122951</td>\n",
       "      <td>7841.622414</td>\n",
       "      <td>89.882638</td>\n",
       "    </tr>\n",
       "    <tr>\n",
       "      <th>DK</th>\n",
       "      <td>1.073703e+09</td>\n",
       "      <td>280602.950303</td>\n",
       "      <td>39867.797430</td>\n",
       "      <td>66.901818</td>\n",
       "    </tr>\n",
       "    <tr>\n",
       "      <th>ES</th>\n",
       "      <td>1.098064e+09</td>\n",
       "      <td>61182.582362</td>\n",
       "      <td>4287.385007</td>\n",
       "      <td>62.247085</td>\n",
       "    </tr>\n",
       "    <tr>\n",
       "      <th>FR</th>\n",
       "      <td>1.061053e+09</td>\n",
       "      <td>88794.978010</td>\n",
       "      <td>10338.749995</td>\n",
       "      <td>114.108377</td>\n",
       "    </tr>\n",
       "    <tr>\n",
       "      <th>GB</th>\n",
       "      <td>1.070380e+09</td>\n",
       "      <td>30915.708423</td>\n",
       "      <td>4451.430196</td>\n",
       "      <td>80.929841</td>\n",
       "    </tr>\n",
       "    <tr>\n",
       "      <th>HK</th>\n",
       "      <td>1.043234e+09</td>\n",
       "      <td>226759.360825</td>\n",
       "      <td>71812.480722</td>\n",
       "      <td>71.979381</td>\n",
       "    </tr>\n",
       "    <tr>\n",
       "      <th>IE</th>\n",
       "      <td>1.027897e+09</td>\n",
       "      <td>53290.805217</td>\n",
       "      <td>4303.505043</td>\n",
       "      <td>50.473043</td>\n",
       "    </tr>\n",
       "    <tr>\n",
       "      <th>IT</th>\n",
       "      <td>1.061705e+09</td>\n",
       "      <td>72126.809143</td>\n",
       "      <td>4546.475686</td>\n",
       "      <td>43.861143</td>\n",
       "    </tr>\n",
       "    <tr>\n",
       "      <th>LU</th>\n",
       "      <td>1.088867e+09</td>\n",
       "      <td>20644.850000</td>\n",
       "      <td>3498.767500</td>\n",
       "      <td>32.650000</td>\n",
       "    </tr>\n",
       "    <tr>\n",
       "      <th>MX</th>\n",
       "      <td>9.913308e+08</td>\n",
       "      <td>185632.196262</td>\n",
       "      <td>18214.613972</td>\n",
       "      <td>19.102804</td>\n",
       "    </tr>\n",
       "    <tr>\n",
       "      <th>N,\"0</th>\n",
       "      <td>1.043024e+09</td>\n",
       "      <td>20691.442553</td>\n",
       "      <td>14294.195489</td>\n",
       "      <td>0.000000</td>\n",
       "    </tr>\n",
       "    <tr>\n",
       "      <th>NL</th>\n",
       "      <td>1.078504e+09</td>\n",
       "      <td>112338.026118</td>\n",
       "      <td>6075.453603</td>\n",
       "      <td>57.662240</td>\n",
       "    </tr>\n",
       "    <tr>\n",
       "      <th>NO</th>\n",
       "      <td>1.140770e+09</td>\n",
       "      <td>488118.606464</td>\n",
       "      <td>27384.302471</td>\n",
       "      <td>33.992395</td>\n",
       "    </tr>\n",
       "    <tr>\n",
       "      <th>NZ</th>\n",
       "      <td>1.087871e+09</td>\n",
       "      <td>35859.557218</td>\n",
       "      <td>6043.600370</td>\n",
       "      <td>62.061620</td>\n",
       "    </tr>\n",
       "    <tr>\n",
       "      <th>SE</th>\n",
       "      <td>1.063886e+09</td>\n",
       "      <td>318035.806147</td>\n",
       "      <td>47688.887967</td>\n",
       "      <td>74.219858</td>\n",
       "    </tr>\n",
       "    <tr>\n",
       "      <th>SG</th>\n",
       "      <td>1.060659e+09</td>\n",
       "      <td>27834.294118</td>\n",
       "      <td>13367.732101</td>\n",
       "      <td>132.848739</td>\n",
       "    </tr>\n",
       "    <tr>\n",
       "      <th>US</th>\n",
       "      <td>1.075220e+09</td>\n",
       "      <td>43428.637050</td>\n",
       "      <td>9076.312240</td>\n",
       "      <td>108.697355</td>\n",
       "    </tr>\n",
       "  </tbody>\n",
       "</table>\n",
       "</div>"
      ],
      "text/plain": [
       "              uniqueId          goal       pledged     backers \n",
       "country                                                        \n",
       "AT        1.100793e+09   38509.753316   9952.875915   56.793103\n",
       "AU        1.074751e+09   82093.709910   6539.322473   75.295061\n",
       "BE        1.063793e+09   38381.221393   6101.848632   45.885572\n",
       "CA        1.080666e+09   58444.585057   7343.379632   85.783022\n",
       "CH        1.042213e+09  293571.568085  11320.132489   70.408511\n",
       "DE        1.068757e+09   50682.122951   7841.622414   89.882638\n",
       "DK        1.073703e+09  280602.950303  39867.797430   66.901818\n",
       "ES        1.098064e+09   61182.582362   4287.385007   62.247085\n",
       "FR        1.061053e+09   88794.978010  10338.749995  114.108377\n",
       "GB        1.070380e+09   30915.708423   4451.430196   80.929841\n",
       "HK        1.043234e+09  226759.360825  71812.480722   71.979381\n",
       "IE        1.027897e+09   53290.805217   4303.505043   50.473043\n",
       "IT        1.061705e+09   72126.809143   4546.475686   43.861143\n",
       "LU        1.088867e+09   20644.850000   3498.767500   32.650000\n",
       "MX        9.913308e+08  185632.196262  18214.613972   19.102804\n",
       "N,\"0      1.043024e+09   20691.442553  14294.195489    0.000000\n",
       "NL        1.078504e+09  112338.026118   6075.453603   57.662240\n",
       "NO        1.140770e+09  488118.606464  27384.302471   33.992395\n",
       "NZ        1.087871e+09   35859.557218   6043.600370   62.061620\n",
       "SE        1.063886e+09  318035.806147  47688.887967   74.219858\n",
       "SG        1.060659e+09   27834.294118  13367.732101  132.848739\n",
       "US        1.075220e+09   43428.637050   9076.312240  108.697355"
      ]
     },
     "execution_count": 46,
     "metadata": {},
     "output_type": "execute_result"
    }
   ],
   "source": [
    "df.groupby(['country ']).mean()"
   ]
  },
  {
   "cell_type": "markdown",
   "metadata": {},
   "source": [
    "## Interesting Relationships:"
   ]
  },
  {
   "cell_type": "markdown",
   "metadata": {},
   "source": [
    "For this dataset, the most interesting thing to predict would be the success state of the project. "
   ]
  },
  {
   "cell_type": "markdown",
   "metadata": {},
   "source": [
    "## Other Features:"
   ]
  },
  {
   "cell_type": "markdown",
   "metadata": {},
   "source": []
  },
  {
   "cell_type": "markdown",
   "metadata": {},
   "source": [
    "## Exceptional Work:"
   ]
  }
 ],
 "metadata": {
  "kernelspec": {
   "display_name": "Python 2",
   "language": "python",
   "name": "python2"
  },
  "language_info": {
   "codemirror_mode": {
    "name": "ipython",
    "version": 2
   },
   "file_extension": ".py",
   "mimetype": "text/x-python",
   "name": "python",
   "nbconvert_exporter": "python",
   "pygments_lexer": "ipython2",
   "version": "2.7.14"
  }
 },
 "nbformat": 4,
 "nbformat_minor": 2
}
