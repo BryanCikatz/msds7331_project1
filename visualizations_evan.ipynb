{
 "cells": [
  {
   "cell_type": "markdown",
   "metadata": {},
   "source": [
    "# MSDS 7331 - Data Mining"
   ]
  },
  {
   "cell_type": "markdown",
   "metadata": {},
   "source": [
    "# Assignment 1"
   ]
  },
  {
   "cell_type": "markdown",
   "metadata": {},
   "source": [
    "## Kickstarter Project Prediction"
   ]
  },
  {
   "cell_type": "markdown",
   "metadata": {},
   "source": [
    "by: Evangelos Giakoumakis, Ramin Farhanian, Bryan Cikatz"
   ]
  },
  {
   "cell_type": "code",
   "execution_count": 3,
   "metadata": {},
   "outputs": [
    {
     "data": {
      "text/plain": [
       "'/notebook/DataMiningNotebooks-master'"
      ]
     },
     "execution_count": 3,
     "metadata": {},
     "output_type": "execute_result"
    }
   ],
   "source": [
    "# loading the dataset\n",
    "import os\n",
    "cwd = os.getcwd()\n",
    "cwd"
   ]
  },
  {
   "cell_type": "code",
   "execution_count": 5,
   "metadata": {},
   "outputs": [],
   "source": [
    "    # loading the dataset\n",
    "    import pandas as pd\n",
    "    import numpy as np\n",
    "    df = pd.read_csv('data/ks-projects-201612-cleaned.csv',  sep = ',')    "
   ]
  },
  {
   "cell_type": "code",
   "execution_count": 6,
   "metadata": {},
   "outputs": [
    {
     "name": "stdout",
     "output_type": "stream",
     "text": [
      "   uniqueId                                              name   \\\n",
      "0      5971              An American Apocalypse: The Reckoning   \n",
      "1     18520                                 Grandma's are Life   \n",
      "2     21109                                               Meta   \n",
      "3     21371                                  Water Powered Car   \n",
      "4     24380  Puss N' Books: A relaxing cat cafe and bookstore.   \n",
      "\n",
      "         category  main_category  currency          deadline     goal   \\\n",
      "0           Comics         Comics       USD    8/6/2012 20:00  48000.0   \n",
      "1      World Music          Music       USD  11/18/2016 15:32  15000.0   \n",
      "2  Performance Art            Art       GBP    5/6/2015 23:00    150.0   \n",
      "3       Technology     Technology       USD   8/10/2016 19:02  75000.0   \n",
      "4           Spaces           Food       USD  11/26/2015 17:25  20000.0   \n",
      "\n",
      "          launched   pledged       state   backers  country   \n",
      "0    6/8/2012 18:46     376.0      failed         7       US  \n",
      "1  10/19/2016 15:32      62.0      failed         4       US  \n",
      "2     4/8/2015 0:37     173.0  successful        11       GB  \n",
      "3   7/26/2016 19:02     120.0      failed         4       US  \n",
      "4  10/27/2015 16:25     776.0      failed        18       US  \n"
     ]
    }
   ],
   "source": [
    "print(df.head())"
   ]
  },
  {
   "cell_type": "code",
   "execution_count": 7,
   "metadata": {},
   "outputs": [
    {
     "name": "stdout",
     "output_type": "stream",
     "text": [
      "<class 'pandas.core.frame.DataFrame'>\n",
      "RangeIndex: 319556 entries, 0 to 319555\n",
      "Data columns (total 12 columns):\n",
      "uniqueId          319556 non-null int64\n",
      "name              319554 non-null object\n",
      "category          319556 non-null object\n",
      "main_category     319556 non-null object\n",
      "currency          319556 non-null object\n",
      "deadline          319556 non-null object\n",
      "goal              319556 non-null float64\n",
      "launched          319556 non-null object\n",
      "pledged           319556 non-null float64\n",
      "state             319556 non-null object\n",
      "backers           319556 non-null int64\n",
      "country           319556 non-null object\n",
      "dtypes: float64(2), int64(2), object(8)\n",
      "memory usage: 29.3+ MB\n",
      "None\n"
     ]
    }
   ],
   "source": [
    "print (df.info())"
   ]
  },
  {
   "cell_type": "code",
   "execution_count": 9,
   "metadata": {},
   "outputs": [
    {
     "name": "stdout",
     "output_type": "stream",
     "text": [
      "uniqueId            int64\n",
      "name               object\n",
      "category           object\n",
      "main_category      object\n",
      "currency           object\n",
      "deadline           object\n",
      "goal              float64\n",
      "launched           object\n",
      "pledged           float64\n",
      "state              object\n",
      "backers             int64\n",
      "country            object\n",
      "dtype: object\n"
     ]
    }
   ],
   "source": [
    "print (df.dtypes)"
   ]
  },
  {
   "cell_type": "code",
   "execution_count": 10,
   "metadata": {},
   "outputs": [
    {
     "data": {
      "text/html": [
       "<div>\n",
       "<style>\n",
       "    .dataframe thead tr:only-child th {\n",
       "        text-align: right;\n",
       "    }\n",
       "\n",
       "    .dataframe thead th {\n",
       "        text-align: left;\n",
       "    }\n",
       "\n",
       "    .dataframe tbody tr th {\n",
       "        vertical-align: top;\n",
       "    }\n",
       "</style>\n",
       "<table border=\"1\" class=\"dataframe\">\n",
       "  <thead>\n",
       "    <tr style=\"text-align: right;\">\n",
       "      <th></th>\n",
       "      <th>uniqueId</th>\n",
       "      <th>goal</th>\n",
       "      <th>pledged</th>\n",
       "      <th>backers</th>\n",
       "    </tr>\n",
       "  </thead>\n",
       "  <tbody>\n",
       "    <tr>\n",
       "      <th>count</th>\n",
       "      <td>3.195560e+05</td>\n",
       "      <td>3.195560e+05</td>\n",
       "      <td>3.195560e+05</td>\n",
       "      <td>319556.000000</td>\n",
       "    </tr>\n",
       "    <tr>\n",
       "      <th>mean</th>\n",
       "      <td>1.074799e+09</td>\n",
       "      <td>4.762898e+04</td>\n",
       "      <td>8.768322e+03</td>\n",
       "      <td>102.767775</td>\n",
       "    </tr>\n",
       "    <tr>\n",
       "      <th>std</th>\n",
       "      <td>6.193688e+08</td>\n",
       "      <td>1.145902e+06</td>\n",
       "      <td>9.008106e+04</td>\n",
       "      <td>940.051571</td>\n",
       "    </tr>\n",
       "    <tr>\n",
       "      <th>min</th>\n",
       "      <td>5.971000e+03</td>\n",
       "      <td>1.000000e-02</td>\n",
       "      <td>0.000000e+00</td>\n",
       "      <td>0.000000</td>\n",
       "    </tr>\n",
       "    <tr>\n",
       "      <th>25%</th>\n",
       "      <td>5.374245e+08</td>\n",
       "      <td>2.000000e+03</td>\n",
       "      <td>3.000000e+01</td>\n",
       "      <td>2.000000</td>\n",
       "    </tr>\n",
       "    <tr>\n",
       "      <th>50%</th>\n",
       "      <td>1.075709e+09</td>\n",
       "      <td>5.000000e+03</td>\n",
       "      <td>6.100000e+02</td>\n",
       "      <td>12.000000</td>\n",
       "    </tr>\n",
       "    <tr>\n",
       "      <th>75%</th>\n",
       "      <td>1.611023e+09</td>\n",
       "      <td>1.500000e+04</td>\n",
       "      <td>3.940000e+03</td>\n",
       "      <td>55.000000</td>\n",
       "    </tr>\n",
       "    <tr>\n",
       "      <th>max</th>\n",
       "      <td>2.147476e+09</td>\n",
       "      <td>1.000000e+08</td>\n",
       "      <td>2.033899e+07</td>\n",
       "      <td>219382.000000</td>\n",
       "    </tr>\n",
       "  </tbody>\n",
       "</table>\n",
       "</div>"
      ],
      "text/plain": [
       "           uniqueId         goal       pledged        backers \n",
       "count  3.195560e+05  3.195560e+05  3.195560e+05  319556.000000\n",
       "mean   1.074799e+09  4.762898e+04  8.768322e+03     102.767775\n",
       "std    6.193688e+08  1.145902e+06  9.008106e+04     940.051571\n",
       "min    5.971000e+03  1.000000e-02  0.000000e+00       0.000000\n",
       "25%    5.374245e+08  2.000000e+03  3.000000e+01       2.000000\n",
       "50%    1.075709e+09  5.000000e+03  6.100000e+02      12.000000\n",
       "75%    1.611023e+09  1.500000e+04  3.940000e+03      55.000000\n",
       "max    2.147476e+09  1.000000e+08  2.033899e+07  219382.000000"
      ]
     },
     "execution_count": 10,
     "metadata": {},
     "output_type": "execute_result"
    }
   ],
   "source": [
    "df.describe()"
   ]
  },
  {
   "cell_type": "markdown",
   "metadata": {
    "collapsed": true
   },
   "source": [
    "Column Metadata\n",
    "\n",
    "column name                         Description                Type\n",
    "uniqueID                            Id of project              String\n",
    "name         Title of the project\n",
    "String\n",
    "category\n",
    "Kickstarter sub category\n",
    "String\n",
    "main_category\n",
    "Kickstarter main category\n",
    "String\n",
    "currency\n",
    "Intial currency of the project\n",
    "String\n",
    "deadline\n",
    "Project deadline\n",
    "DateTime\n",
    "goal\n",
    "Project goal\n",
    "Numeric\n",
    "launched\n",
    "Project launch date\n",
    "DateTime\n",
    "pledged\n",
    "Amount pledge in inital currency\n",
    "Numeric\n",
    "state\n",
    "Project current state\n",
    "String\n",
    "backers\n",
    "Number of backers\n",
    "Numeric\n",
    "country\n",
    "Country of project creator\n",
    "String\n",
    "usd pledged\n",
    "Kickstarter conversion of pledged amount in USD\n",
    "Numeric\n"
   ]
  },
  {
   "cell_type": "markdown",
   "metadata": {},
   "source": []
  },
  {
   "cell_type": "code",
   "execution_count": 11,
   "metadata": {},
   "outputs": [
    {
     "name": "stdout",
     "output_type": "stream",
     "text": [
      "<class 'pandas.core.frame.DataFrame'>\n",
      "RangeIndex: 319556 entries, 0 to 319555\n",
      "Data columns (total 13 columns):\n",
      "uniqueId          319556 non-null int64\n",
      "name              319554 non-null object\n",
      "category          319556 non-null object\n",
      "main_category     319556 non-null object\n",
      "currency          319556 non-null object\n",
      "deadline          319556 non-null object\n",
      "goal              319556 non-null float64\n",
      "launched          319556 non-null object\n",
      "pledged           319556 non-null float64\n",
      "state             319556 non-null object\n",
      "backers           319556 non-null int64\n",
      "country           319556 non-null object\n",
      "bl_states         319556 non-null bool\n",
      "dtypes: bool(1), float64(2), int64(2), object(8)\n",
      "memory usage: 29.6+ MB\n"
     ]
    },
    {
     "data": {
      "text/html": [
       "<div>\n",
       "<style>\n",
       "    .dataframe thead tr:only-child th {\n",
       "        text-align: right;\n",
       "    }\n",
       "\n",
       "    .dataframe thead th {\n",
       "        text-align: left;\n",
       "    }\n",
       "\n",
       "    .dataframe tbody tr th {\n",
       "        vertical-align: top;\n",
       "    }\n",
       "</style>\n",
       "<table border=\"1\" class=\"dataframe\">\n",
       "  <thead>\n",
       "    <tr style=\"text-align: right;\">\n",
       "      <th></th>\n",
       "      <th>uniqueId</th>\n",
       "      <th>name</th>\n",
       "      <th>category</th>\n",
       "      <th>main_category</th>\n",
       "      <th>currency</th>\n",
       "      <th>deadline</th>\n",
       "      <th>goal</th>\n",
       "      <th>launched</th>\n",
       "      <th>pledged</th>\n",
       "      <th>state</th>\n",
       "      <th>backers</th>\n",
       "      <th>country</th>\n",
       "      <th>bl_states</th>\n",
       "    </tr>\n",
       "  </thead>\n",
       "  <tbody>\n",
       "    <tr>\n",
       "      <th>0</th>\n",
       "      <td>5971</td>\n",
       "      <td>An American Apocalypse: The Reckoning</td>\n",
       "      <td>Comics</td>\n",
       "      <td>Comics</td>\n",
       "      <td>USD</td>\n",
       "      <td>8/6/2012 20:00</td>\n",
       "      <td>48000.0</td>\n",
       "      <td>6/8/2012 18:46</td>\n",
       "      <td>376.0</td>\n",
       "      <td>failed</td>\n",
       "      <td>7</td>\n",
       "      <td>US</td>\n",
       "      <td>False</td>\n",
       "    </tr>\n",
       "    <tr>\n",
       "      <th>1</th>\n",
       "      <td>18520</td>\n",
       "      <td>Grandma's are Life</td>\n",
       "      <td>World Music</td>\n",
       "      <td>Music</td>\n",
       "      <td>USD</td>\n",
       "      <td>11/18/2016 15:32</td>\n",
       "      <td>15000.0</td>\n",
       "      <td>10/19/2016 15:32</td>\n",
       "      <td>62.0</td>\n",
       "      <td>failed</td>\n",
       "      <td>4</td>\n",
       "      <td>US</td>\n",
       "      <td>False</td>\n",
       "    </tr>\n",
       "    <tr>\n",
       "      <th>2</th>\n",
       "      <td>21109</td>\n",
       "      <td>Meta</td>\n",
       "      <td>Performance Art</td>\n",
       "      <td>Art</td>\n",
       "      <td>GBP</td>\n",
       "      <td>5/6/2015 23:00</td>\n",
       "      <td>150.0</td>\n",
       "      <td>4/8/2015 0:37</td>\n",
       "      <td>173.0</td>\n",
       "      <td>successful</td>\n",
       "      <td>11</td>\n",
       "      <td>GB</td>\n",
       "      <td>False</td>\n",
       "    </tr>\n",
       "    <tr>\n",
       "      <th>3</th>\n",
       "      <td>21371</td>\n",
       "      <td>Water Powered Car</td>\n",
       "      <td>Technology</td>\n",
       "      <td>Technology</td>\n",
       "      <td>USD</td>\n",
       "      <td>8/10/2016 19:02</td>\n",
       "      <td>75000.0</td>\n",
       "      <td>7/26/2016 19:02</td>\n",
       "      <td>120.0</td>\n",
       "      <td>failed</td>\n",
       "      <td>4</td>\n",
       "      <td>US</td>\n",
       "      <td>False</td>\n",
       "    </tr>\n",
       "    <tr>\n",
       "      <th>4</th>\n",
       "      <td>24380</td>\n",
       "      <td>Puss N' Books: A relaxing cat cafe and bookstore.</td>\n",
       "      <td>Spaces</td>\n",
       "      <td>Food</td>\n",
       "      <td>USD</td>\n",
       "      <td>11/26/2015 17:25</td>\n",
       "      <td>20000.0</td>\n",
       "      <td>10/27/2015 16:25</td>\n",
       "      <td>776.0</td>\n",
       "      <td>failed</td>\n",
       "      <td>18</td>\n",
       "      <td>US</td>\n",
       "      <td>False</td>\n",
       "    </tr>\n",
       "  </tbody>\n",
       "</table>\n",
       "</div>"
      ],
      "text/plain": [
       "   uniqueId                                              name   \\\n",
       "0      5971              An American Apocalypse: The Reckoning   \n",
       "1     18520                                 Grandma's are Life   \n",
       "2     21109                                               Meta   \n",
       "3     21371                                  Water Powered Car   \n",
       "4     24380  Puss N' Books: A relaxing cat cafe and bookstore.   \n",
       "\n",
       "         category  main_category  currency          deadline     goal   \\\n",
       "0           Comics         Comics       USD    8/6/2012 20:00  48000.0   \n",
       "1      World Music          Music       USD  11/18/2016 15:32  15000.0   \n",
       "2  Performance Art            Art       GBP    5/6/2015 23:00    150.0   \n",
       "3       Technology     Technology       USD   8/10/2016 19:02  75000.0   \n",
       "4           Spaces           Food       USD  11/26/2015 17:25  20000.0   \n",
       "\n",
       "          launched   pledged       state   backers  country   bl_states  \n",
       "0    6/8/2012 18:46     376.0      failed         7       US      False  \n",
       "1  10/19/2016 15:32      62.0      failed         4       US      False  \n",
       "2     4/8/2015 0:37     173.0  successful        11       GB      False  \n",
       "3   7/26/2016 19:02     120.0      failed         4       US      False  \n",
       "4  10/27/2015 16:25     776.0      failed        18       US      False  "
      ]
     },
     "execution_count": 11,
     "metadata": {},
     "output_type": "execute_result"
    }
   ],
   "source": [
    "# make state boolean so we can see the percentage of success/failures\n",
    "df['bl_states'] = False\n",
    "\n",
    "df.info()\n",
    "df.head()"
   ]
  },
  {
   "cell_type": "code",
   "execution_count": 12,
   "metadata": {},
   "outputs": [
    {
     "data": {
      "text/plain": [
       "<matplotlib.axes._subplots.AxesSubplot at 0x7fa9979782d0>"
      ]
     },
     "execution_count": 12,
     "metadata": {},
     "output_type": "execute_result"
    },
    {
     "data": {
      "text/plain": [
       "<matplotlib.figure.Figure at 0x7fa997995310>"
      ]
     },
     "metadata": {},
     "output_type": "display_data"
    },
    {
     "data": {
      "image/png": "[encoded data removed]",
      "text/plain": [
       "<matplotlib.figure.Figure at 0x7fa997960c90>"
      ]
     },
     "metadata": {},
     "output_type": "display_data"
    }
   ],
   "source": [
    "# plot something\n",
    "import matplotlib.pyplot as plt\n",
    "import warnings\n",
    "\n",
    "warnings.simplefilter('ignore', DeprecationWarning)\n",
    "%matplotlib inline\n",
    "\n",
    "plt.figure(); \n",
    "df.plot(kind='hist', alpha=0.5)"
   ]
  },
  {
   "cell_type": "code",
   "execution_count": null,
   "metadata": {
    "collapsed": true
   },
   "outputs": [],
   "source": []
  }
 ],
 "metadata": {
  "kernelspec": {
   "display_name": "Python 2",
   "language": "python",
   "name": "python2"
  },
  "language_info": {
   "codemirror_mode": {
    "name": "ipython",
    "version": 2
   },
   "file_extension": ".py",
   "mimetype": "text/x-python",
   "name": "python",
   "nbconvert_exporter": "python",
   "pygments_lexer": "ipython2",
   "version": "2.7.14"
  }
 },
 "nbformat": 4,
 "nbformat_minor": 1
}
